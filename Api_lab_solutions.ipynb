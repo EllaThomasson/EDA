{
  "nbformat": 4,
  "nbformat_minor": 0,
  "metadata": {
    "colab": {
      "provenance": [],
      "authorship_tag": "ABX9TyMtfOisQ3D0wzd2pu7b+ijY",
      "include_colab_link": true
    },
    "kernelspec": {
      "name": "python3",
      "display_name": "Python 3"
    },
    "language_info": {
      "name": "python"
    }
  },
  "cells": [
    {
      "cell_type": "markdown",
      "metadata": {
        "id": "view-in-github",
        "colab_type": "text"
      },
      "source": [
        "<a href=\"https://colab.research.google.com/github/EllaThomasson/EDA/blob/main/Api_lab_solutions.ipynb\" target=\"_parent\"><img src=\"https://colab.research.google.com/assets/colab-badge.svg\" alt=\"Open In Colab\"/></a>"
      ]
    },
    {
      "cell_type": "markdown",
      "source": [
        "Question 1"
      ],
      "metadata": {
        "id": "7ZrNL-a3PyPL"
      }
    },
    {
      "cell_type": "code",
      "execution_count": 4,
      "metadata": {
        "id": "VuTlAlNxOStB"
      },
      "outputs": [],
      "source": [
        "# Question 1\n",
        "\n",
        "# I did practice writing queries using saferproducts.gov.\n",
        "\n",
        "# Here is an example:\n",
        "url = 'https://www.saferproducts.gov/RestWebServices/Recall?format=json&ProductType=Phone'\n",
        "\n"
      ]
    },
    {
      "cell_type": "markdown",
      "source": [
        "Question 2"
      ],
      "metadata": {
        "id": "B79VVlN_QN5r"
      }
    },
    {
      "cell_type": "code",
      "source": [],
      "metadata": {
        "id": "27FfQDRhQPd9"
      },
      "execution_count": null,
      "outputs": []
    },
    {
      "cell_type": "markdown",
      "source": [
        "Question 3"
      ],
      "metadata": {
        "id": "H7m9O48nQb4W"
      }
    },
    {
      "cell_type": "code",
      "source": [],
      "metadata": {
        "id": "STz5Dt0mQeWm"
      },
      "execution_count": null,
      "outputs": []
    },
    {
      "cell_type": "markdown",
      "source": [
        "Question 4"
      ],
      "metadata": {
        "id": "2pvZ2LMFQfJp"
      }
    },
    {
      "cell_type": "code",
      "source": [],
      "metadata": {
        "id": "gtHAwjjLQg42"
      },
      "execution_count": null,
      "outputs": []
    },
    {
      "cell_type": "markdown",
      "source": [
        "Question 5"
      ],
      "metadata": {
        "id": "EJm24FfXQhiR"
      }
    },
    {
      "cell_type": "code",
      "source": [],
      "metadata": {
        "id": "EsoFyH42Qi_h"
      },
      "execution_count": null,
      "outputs": []
    }
  ]
}